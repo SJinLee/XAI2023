{
  "cells": [
    {
      "cell_type": "markdown",
      "metadata": {
        "id": "view-in-github",
        "colab_type": "text"
      },
      "source": [
        "<a href=\"https://colab.research.google.com/github/SJinLee/XAI2023/blob/main/00.XAI%20study.ipynb\" target=\"_parent\"><img src=\"https://colab.research.google.com/assets/colab-badge.svg\" alt=\"Open In Colab\"/></a>"
      ]
    },
    {
      "cell_type": "markdown",
      "metadata": {
        "id": "sHpWfGCQNgiv"
      },
      "source": [
        "### 1. machinelearningforkids\n",
        "* https://machinelearningforkids.co.uk/\n",
        "* https://machinelearningforkids.co.uk/#!/worksheets\n",
        "    * <a href=\"https://github.com/IBM/taxinomitis-docs/raw/master/project-worksheets/pdf/worksheet-mailmanmax.pdf\">우편배달부</a> : 이미지 인식\n",
        "    * <a href=\"https://github.com/IBM/taxinomitis-docs/raw/master/project-worksheets/pdf/worksheet-inkblots.pdf\">Ink blots</a> : 이미지 인식\n",
        "    * <a href=\"https://github.com/IBM/taxinomitis-docs/raw/master/project-worksheets/pdf/worksheet-zombieescape.pdf\">Zombie Escape</a> : 숫자인식\n",
        "    * <a href=\"https://github.com/IBM/taxinomitis-docs/raw/master/project-worksheets/pdf/worksheet-handgestures.pdf\">손동작</a> : 이미지 인식\n",
        "    * <a href=\"https://github.com/IBM/taxinomitis-docs/raw/master/project-worksheets/pdf/worksheet-explainability.pdf\">설명가능한 AI worksheet</a> : 이미지 인식"
      ]
    },
    {
      "cell_type": "markdown",
      "metadata": {
        "id": "WUZI7yzCNgiz"
      },
      "source": [
        "### 2. XAI 동향\n",
        "* https://realblack0.github.io/2020/04/27/explainable-ai.html"
      ]
    },
    {
      "cell_type": "markdown",
      "metadata": {
        "id": "1vWOiL2UNgiz"
      },
      "source": [
        "### 3. kaggle.com\n",
        "* https://www.kaggle.com/learn/computer-vision\n",
        "* filter, activation, condense\n",
        "* kernel, relu, maxpooling\n",
        "* transfer learning: base, head\n",
        "* feature extraction, classification\n",
        "* translation invariance"
      ]
    },
    {
      "cell_type": "markdown",
      "source": [
        "### 4. feature map\n",
        "* https://machinelearningmastery.com/how-to-visualize-filters-and-feature-maps-in-convolutional-neural-networks/\n",
        "* VGG16의 구조 : https://bskyvision.com/entry/CNN-%EC%95%8C%EA%B3%A0%EB%A6%AC%EC%A6%98%EB%93%A4-VGGNet%EC%9D%98-%EA%B5%AC%EC%A1%B0-1\n",
        "* visualize filter\n",
        "* visualize feature maps"
      ],
      "metadata": {
        "id": "CBUnjubANgiz"
      }
    },
    {
      "cell_type": "markdown",
      "metadata": {
        "id": "VxrhmDIuNgi0"
      },
      "source": []
    }
  ],
  "metadata": {
    "language_info": {
      "name": "python"
    },
    "orig_nbformat": 4,
    "colab": {
      "provenance": [],
      "include_colab_link": true
    }
  },
  "nbformat": 4,
  "nbformat_minor": 0
}