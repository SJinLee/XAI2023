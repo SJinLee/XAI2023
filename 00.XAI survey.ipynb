{
 "cells": [
  {
   "attachments": {},
   "cell_type": "markdown",
   "metadata": {},
   "source": [
    "### machinelearningforkids\n",
    "* https://machinelearningforkids.co.uk/\n",
    "* <a href=\"https://github.com/IBM/taxinomitis-docs/raw/master/project-worksheets/pdf/worksheet-explainability.pdf\">설명가능한 AI worksheet</a>"
   ]
  },
  {
   "attachments": {},
   "cell_type": "markdown",
   "metadata": {},
   "source": [
    "### XAI 동향\n",
    "* https://realblack0.github.io/2020/04/27/explainable-ai.html"
   ]
  },
  {
   "attachments": {},
   "cell_type": "markdown",
   "metadata": {},
   "source": [
    "### kaggle.com\n",
    "* https://www.kaggle.com/learn/computer-vision\n",
    "* filter, activation, condense\n",
    "* kernel, relu, maxpooling\n",
    "* base, head\n",
    "* feature extraction, classification\n",
    "* translation invariance"
   ]
  },
  {
   "cell_type": "code",
   "execution_count": null,
   "metadata": {
    "vscode": {
     "languageId": "plaintext"
    }
   },
   "outputs": [],
   "source": []
  },
  {
   "cell_type": "markdown",
   "metadata": {},
   "source": []
  }
 ],
 "metadata": {
  "language_info": {
   "name": "python"
  },
  "orig_nbformat": 4
 },
 "nbformat": 4,
 "nbformat_minor": 2
}
