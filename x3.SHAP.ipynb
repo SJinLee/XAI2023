{
  "nbformat": 4,
  "nbformat_minor": 0,
  "metadata": {
    "colab": {
      "provenance": [],
      "authorship_tag": "ABX9TyMBLYTKdMFeCqMtFmuMZ1yW",
      "include_colab_link": true
    },
    "kernelspec": {
      "name": "python3",
      "display_name": "Python 3"
    },
    "language_info": {
      "name": "python"
    }
  },
  "cells": [
    {
      "cell_type": "markdown",
      "metadata": {
        "id": "view-in-github",
        "colab_type": "text"
      },
      "source": [
        "<a href=\"https://colab.research.google.com/github/SJinLee/XAI2023/blob/main/x3.SHAP.ipynb\" target=\"_parent\"><img src=\"https://colab.research.google.com/assets/colab-badge.svg\" alt=\"Open In Colab\"/></a>"
      ]
    },
    {
      "cell_type": "markdown",
      "source": [
        "1. [SHAP(SHapley Additive exPlanation)](https://velog.io/@tobigs_xai/2%EC%A3%BC%EC%B0%A8-SHAP-SHapley-Additive-exPlanation)\n",
        "2. [SHAP for image classification/](https://cgarbin.github.io/shap-experiments-image-classification/)"
      ],
      "metadata": {
        "id": "sPGdj_OhHkuz"
      }
    },
    {
      "cell_type": "code",
      "source": [],
      "metadata": {
        "id": "1JvqaoAMH2CZ"
      },
      "execution_count": null,
      "outputs": []
    }
  ]
}