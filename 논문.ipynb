{
  "nbformat": 4,
  "nbformat_minor": 0,
  "metadata": {
    "colab": {
      "provenance": [],
      "authorship_tag": "ABX9TyMxBvZu2fopQRvzCK9fmbGP",
      "include_colab_link": true
    },
    "kernelspec": {
      "name": "python3",
      "display_name": "Python 3"
    },
    "language_info": {
      "name": "python"
    }
  },
  "cells": [
    {
      "cell_type": "markdown",
      "metadata": {
        "id": "view-in-github",
        "colab_type": "text"
      },
      "source": [
        "<a href=\"https://colab.research.google.com/github/SJinLee/XAI2023/blob/main/%EB%85%BC%EB%AC%B8.ipynb\" target=\"_parent\"><img src=\"https://colab.research.google.com/assets/colab-badge.svg\" alt=\"Open In Colab\"/></a>"
      ]
    },
    {
      "cell_type": "markdown",
      "source": [
        "### 제목\n",
        "\n",
        "1. 서론: 왜? history, 우리가 연구한 것\n",
        "2. 연구내용: 새로운 이론, 다른 사람의 결과\n",
        "3. 연구결과: 실험 결과\n",
        "4. 결론: 결과요약, 예측되는 결과"
      ],
      "metadata": {
        "id": "RN4oXElaSsXv"
      }
    }
  ]
}