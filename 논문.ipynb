{
  "nbformat": 4,
  "nbformat_minor": 0,
  "metadata": {
    "colab": {
      "provenance": [],
      "include_colab_link": true
    },
    "kernelspec": {
      "name": "python3",
      "display_name": "Python 3"
    },
    "language_info": {
      "name": "python"
    }
  },
  "cells": [
    {
      "cell_type": "markdown",
      "metadata": {
        "id": "view-in-github",
        "colab_type": "text"
      },
      "source": [
        "<a href=\"https://colab.research.google.com/github/SJinLee/XAI2023/blob/main/%EB%85%BC%EB%AC%B8.ipynb\" target=\"_parent\"><img src=\"https://colab.research.google.com/assets/colab-badge.svg\" alt=\"Open In Colab\"/></a>"
      ]
    },
    {
      "cell_type": "markdown",
      "source": [
        "### 제목\n",
        "\n",
        "1. 서론: 왜? history, 우리가 연구한 것\n",
        "2. 연구내용: 새로운 이론, 다른 사람의 결과\n",
        "  * 인공신경망\n",
        "    * 역사\n",
        "    * 구조\n",
        "    * 학습\n",
        "  * Convolutional Neural Network\n",
        "    * convolution, relu, pooling의 의미\n",
        "    * feature 추출\n",
        "    * base, head\n",
        "    * feature map\n",
        "  * 설명가능한 AI(XAI)\n",
        "    * 중요한 영역\n",
        "    * SHAP\n",
        "3. 연구결과: 실험 결과\n",
        "  * 이미지 학습\n",
        "  * feature map\n",
        "  * 분류 예측에 중요한 영역과 대응하는 feature의 모양\n",
        "4. 결론: 결과요약, 예측되는 결과"
      ],
      "metadata": {
        "id": "RN4oXElaSsXv"
      }
    },
    {
      "cell_type": "code",
      "source": [],
      "metadata": {
        "id": "Da1ObTl9iBUa"
      },
      "execution_count": null,
      "outputs": []
    }
  ]
}